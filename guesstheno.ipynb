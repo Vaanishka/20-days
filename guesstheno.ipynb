{
 "cells": [
  {
   "cell_type": "code",
   "execution_count": null,
   "metadata": {},
   "outputs": [
    {
     "name": "stdout",
     "output_type": "stream",
     "text": [
      "game rules: \n",
      "there is a random number chosen by the computer between 1 and 10\n",
      "and you have to guess that number\n",
      "number is greater than that ⬆\n",
      "number is greater than that ⬆\n",
      "woah! that was the correct number 🤩\n",
      "you guessed the correct number in  3  tries\n",
      "\n"
     ]
    }
   ],
   "source": [
    "#guess the number game\n",
    "print(\"game rules: \\nthere is a random number chosen by the computer between 1 and 10\\nand you have to guess that number\")\n",
    "import random\n",
    "while True:\n",
    "    y=random.randint(1,10)\n",
    "    c=0\n",
    "    while True:\n",
    "        a=int(input(\"your guess... \"))\n",
    "        c+=1\n",
    "        if a>y:\n",
    "            print(\"number is smaller than that ⬇\")\n",
    "        elif a<y:\n",
    "            print(\"number is greater than that ⬆\")\n",
    "        elif a==y:\n",
    "            print(\"woah! that was the correct number 🤩\")\n",
    "            print(\"you guessed the correct number in \",c,\" tries\\n\")\n",
    "            break\n",
    "    w=int(input(\"do you wanna play again? (0/1) \"))\n",
    "    if w==0:\n",
    "        print(\"\\nthanks for playing!\")\n",
    "        break"
   ]
  },
  {
   "cell_type": "code",
   "execution_count": null,
   "metadata": {},
   "outputs": [],
   "source": []
  }
 ],
 "metadata": {
  "kernelspec": {
   "display_name": "Python 3",
   "language": "python",
   "name": "python3"
  },
  "language_info": {
   "codemirror_mode": {
    "name": "ipython",
    "version": 3
   },
   "file_extension": ".py",
   "mimetype": "text/x-python",
   "name": "python",
   "nbconvert_exporter": "python",
   "pygments_lexer": "ipython3",
   "version": "3.12.3"
  }
 },
 "nbformat": 4,
 "nbformat_minor": 2
}
