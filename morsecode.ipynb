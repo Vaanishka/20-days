{
 "cells": [
  {
   "cell_type": "code",
   "execution_count": 1,
   "metadata": {},
   "outputs": [
    {
     "name": "stdout",
     "output_type": "stream",
     "text": [
      "-.. . -.-. --- -.. . / - .... .. ... / \n",
      "\n",
      "\n",
      "byeeeeeeee :D\n"
     ]
    }
   ],
   "source": [
    "alp=['a','b','c','d','e','f','g','h','i','j','k','l','m','n','o','p','q','r','s','t','u','v','w','x','y','z','0','1','2','3','4','5','6','7','8','9']\n",
    "morse=['.-','-...','-.-.','-..','.','..-.','--.','....','..','.---','-.-','.-..','--','-.','---','.--.','--.-','.-.','...','-','..-','...-','.--','-..-','-.--','--..','-----','.----','..---','...--','....-','.....','-....','--...','---..','----.']\n",
    "l=['0','1','2','3','4','5','6','7','8','9']\n",
    "d={}\n",
    "for i in range(36):\n",
    "    d[alp[i]]=morse[i]\n",
    "d1={}\n",
    "for i in range(36):\n",
    "    d1[morse[i]]=alp[i]\n",
    "\n",
    "def encode():\n",
    "    a=input(\"enter the message: \")\n",
    "    b=a.split()\n",
    "    for i in b:\n",
    "        for j in i:\n",
    "            print(d[j],end=\" \")\n",
    "        print(\"/ \",end=\"\")\n",
    "\n",
    "def decode():\n",
    "    a=input(\"enter the message: \")\n",
    "    b=a.split(\" / \")\n",
    "    for i in b:\n",
    "        c=i.split()\n",
    "        for j in c:\n",
    "            print(d1[j],end=\"\")\n",
    "        print(\" \",end=\"\")\n",
    "\n",
    "while True:\n",
    "    x=int(input(\"type 1 to use the encoder\\ntype 2 to use the decoder\\ntype 3 to exit\\nyour response: \"))\n",
    "    if x==1:\n",
    "        try:\n",
    "            encode()\n",
    "            print(\"\\n\")\n",
    "        except:\n",
    "            print(\"error occured\\n\")\n",
    "    elif x==2:\n",
    "        try:\n",
    "            decode()\n",
    "            print(\"\\n\")\n",
    "        except:\n",
    "            print(\"error occured\\n\")\n",
    "    elif x==3:\n",
    "        break\n",
    "    else:\n",
    "        continue\n",
    "print(\"\\nbyeeeeeeee :D\")"
   ]
  },
  {
   "cell_type": "code",
   "execution_count": null,
   "metadata": {},
   "outputs": [],
   "source": []
  }
 ],
 "metadata": {
  "kernelspec": {
   "display_name": "Python 3",
   "language": "python",
   "name": "python3"
  },
  "language_info": {
   "codemirror_mode": {
    "name": "ipython",
    "version": 3
   },
   "file_extension": ".py",
   "mimetype": "text/x-python",
   "name": "python",
   "nbconvert_exporter": "python",
   "pygments_lexer": "ipython3",
   "version": "3.12.3"
  }
 },
 "nbformat": 4,
 "nbformat_minor": 2
}
