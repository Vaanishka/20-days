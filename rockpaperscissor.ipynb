{
 "cells": [
  {
   "cell_type": "markdown",
   "metadata": {},
   "source": [
    "# Rock Paper Scissor Game"
   ]
  },
  {
   "cell_type": "code",
   "execution_count": 1,
   "metadata": {},
   "outputs": [
    {
     "name": "stdout",
     "output_type": "stream",
     "text": [
      "Rules Of The Game are :\n",
      " rock vs scissor: rock wins\n",
      " scissor vs paper: scissor wins\n",
      " rock vs paper:  paper wins\n",
      "\t ENTER \n",
      "1 for rock\n",
      "2 for paper\n",
      "3 for scissor\n"
     ]
    }
   ],
   "source": [
    "import random\n",
    "print(\"Rules Of The Game are :\\n rock vs scissor: rock wins\\n scissor vs paper: scissor wins\\n rock vs paper:  paper wins\\n\\t ENTER \\n1 for rock\\n2 for paper\\n3 for scissor\")\n",
    "\n",
    "choice=int(input(\"enter choice:\"))\n",
    "if choice>3:\n",
    "    print(\"ERROR\\nplease enter a valid choice\")\n",
    "\n",
    "if choice==1:\n",
    "    choice_name='ROCK'\n",
    "elif choice==2:\n",
    "    choice_name='PAPER'\n",
    "elif choice==3:\n",
    "    choice_name='SCISSOR'\n",
    "    \n",
    "print(f\"users choice is {choice_name}'\")\n",
    "print(\"now its computers turn\")\n",
    "\n",
    "comp_choice=random.randint(0,3)\n",
    "print(f\"computers choice is {choice_name}'\")\n",
    "\n",
    "if comp_choice==choice:\n",
    "    print(\"it's a draw \")\n",
    "elif comp_choice==1 and choice==2:\n",
    "    print(\"you won \")\n",
    "elif comp_choice==2 and choice==1:\n",
    "    print(\"you lost \")\n",
    "elif comp_choice==2 and choice==3:\n",
    "     print(\"you won \")\n",
    "elif comp_choice==3 and choice==2:\n",
    "    print(\"you lost \")    \n",
    "elif comp_choice==3 and choice==1:\n",
    "     print(\"you won \")\n",
    "elif comp_choice==1 and choice==3:\n",
    "    print(\"you lost \")"
   ]
  }
 ],
 "metadata": {
  "kernelspec": {
   "display_name": "Python 3",
   "language": "python",
   "name": "python3"
  },
  "language_info": {
   "codemirror_mode": {
    "name": "ipython",
    "version": 3
   },
   "file_extension": ".py",
   "mimetype": "text/x-python",
   "name": "python",
   "nbconvert_exporter": "python",
   "pygments_lexer": "ipython3",
   "version": "3.12.3"
  }
 },
 "nbformat": 4,
 "nbformat_minor": 2
}
